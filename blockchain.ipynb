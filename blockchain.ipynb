{
 "cells": [
  {
   "cell_type": "code",
   "execution_count": 192,
   "metadata": {},
   "outputs": [],
   "source": [
    "import hashlib\n",
    "import json\n",
    "import datetime"
   ]
  },
  {
   "cell_type": "code",
   "execution_count": 193,
   "metadata": {},
   "outputs": [
    {
     "data": {
      "text/plain": [
       "'0ed2d3eaad690add58e404bd71b26ab8d9b63edd625c9166c04c31ff5d653bde'"
      ]
     },
     "execution_count": 193,
     "metadata": {},
     "output_type": "execute_result"
    }
   ],
   "source": [
    "class Block:\n",
    "    # a block is a set of data, if you send someone ETH, the transactional data needs to be added to the block\n",
    "    # a block could be seen as a container that holds a list of transactions, such as sending and receiving money\n",
    "    def __init__(self, index, previous_hash, transactions, timestamp):\n",
    "        self.index = index\n",
    "        self.previous_hash = previous_hash\n",
    "        self.transactions = transactions\n",
    "        self.timestamp = timestamp\n",
    "\n",
    "    def calculate_hash(self):\n",
    "        block_string = json.dumps({\n",
    "            \"index\": self.index,\n",
    "            \"previous_hash\": self.previous_hash,\n",
    "            \"transactions\": self.transactions,\n",
    "            \"timestamp\": self.timestamp\n",
    "        })\n",
    "        return hashlib.sha256(block_string.encode(\"utf_8\")).hexdigest()\n",
    "    \n",
    "\n",
    "# add NONCE=0 for initial transaction?\n",
    "genesis_hash = '0x88e96d4537bea4d9c05d12549907b32561d3bf31f45aae734cdc119f13406cb6'\n",
    "transactional_data = {\n",
    "    't1':{'from': 'darcy', 'to':'bingle', 'amount':25},\n",
    "    't2':{'from': 'lydia', 'to':'jingle', 'amount':10}\n",
    "}\n",
    "timestamp_unix = datetime.datetime.timestamp(datetime.datetime.now())\n",
    "block1 = Block(index=1, previous_hash=initial_hash, transactions=transactional_data, timestamp=timestamp_unix)\n",
    "block1.calculate_hash()"
   ]
  },
  {
   "cell_type": "code",
   "execution_count": 194,
   "metadata": {},
   "outputs": [],
   "source": [
    "transactional_data = {}\n",
    "timestamp_unix = datetime.datetime.timestamp(datetime.datetime.now())\n",
    "block2 = Block(index=1, previous_hash=block1.calculate_hash(), transactions=transactional_data, timestamp=timestamp_unix)"
   ]
  },
  {
   "cell_type": "code",
   "execution_count": 195,
   "metadata": {},
   "outputs": [],
   "source": [
    "# https://youtu.be/_160oMzblY8\n",
    "# each peer has the exact same copy of the blockchain with all the same values\n",
    "# if you have just 1 peer, they can mutate one block and mine it to verify the block, i.e., produce new hashes until they get the one they want\n",
    "# but if you have 3 peers, all with identical and verified blocks, one can verify it, but then it will be different to peers - condigtion not met and rejected\n",
    "# blockchain could have 400k - 500k blocks"
   ]
  },
  {
   "cell_type": "code",
   "execution_count": 196,
   "metadata": {},
   "outputs": [],
   "source": [
    "class Blockchain:\n",
    "    # blocks are linked together in chronological order to form a chain\n",
    "    # each block cryptographically references parent\n",
    "    def __init__(self):\n",
    "        self.chain = []\n",
    "\n",
    "    def add_block(self, block):\n",
    "        self.chain.append(block)\n",
    "\n",
    "    def get_previous_block(self):\n",
    "        return self.chain[-1]\n",
    "\n",
    "    def is_valid_block(self, block):\n",
    "        if block.index != self.get_previous_block().index + 1:\n",
    "            return False\n",
    "\n",
    "        if block.previous_hash != self.get_previous_block().calculate_hash():\n",
    "            return False\n",
    "\n",
    "        transaction_hashes = []\n",
    "        for transaction in block.transactions:\n",
    "            transaction_hashes.append(transaction.calculate_hash())\n",
    "\n",
    "        if block.calculate_hash() != sorted(transaction_hashes)[-1]:\n",
    "            return False\n",
    "\n",
    "        return True"
   ]
  },
  {
   "cell_type": "code",
   "execution_count": 197,
   "metadata": {},
   "outputs": [],
   "source": [
    "class Transaction:\n",
    "    def __init__(self, sender, recipient, amount):\n",
    "            self.sender = sender\n",
    "            self.recipient = recipient\n",
    "            self.amount = amount\n",
    "            self.hash = None\n",
    "\n",
    "    def calculate_hash(self):\n",
    "        transaction_string = json.dumps({\n",
    "            \"sender\": self.sender,\n",
    "            \"recipient\": self.recipient,\n",
    "            \"amount\": self.amount\n",
    "        })\n",
    "        return hashlib.sha256(transaction_string.encode('utf-8')).hexdigest()"
   ]
  },
  {
   "cell_type": "code",
   "execution_count": 198,
   "metadata": {},
   "outputs": [],
   "source": [
    "# create blockchain\n",
    "eth_bc = Blockchain()"
   ]
  },
  {
   "cell_type": "code",
   "execution_count": 199,
   "metadata": {},
   "outputs": [],
   "source": [
    "# create first transaction\n",
    "genesis_block = Block(index=0, previous_hash=initial_hash, transactions=transactional_data, timestamp=datetime.datetime.timestamp(datetime.datetime.now()))\n",
    "genesis_block.hash = genesis_block.calculate_hash()\n",
    "eth_bc.add_block(genesis_block)"
   ]
  },
  {
   "cell_type": "code",
   "execution_count": 200,
   "metadata": {},
   "outputs": [],
   "source": [
    "# create second transaction\n",
    "t1 = Transaction('alice', 'bob', 10)\n",
    "block1 = Block(1, genesis_block.hash, t1.calculate_hash(), datetime.datetime.timestamp(datetime.datetime.now()))\n",
    "block1.hash = block1.calculate_hash()\n",
    "eth_bc.add_block(block1)"
   ]
  },
  {
   "cell_type": "code",
   "execution_count": 206,
   "metadata": {},
   "outputs": [
    {
     "data": {
      "text/plain": [
       "{'index': 1,\n",
       " 'previous_hash': '2416362cdecf11db852e37f631cdf421d4bc079957b0181a6fd5363aaf66edf7',\n",
       " 'transactions': '9067ec49ed4cb73fc148c2ee03ed01eecc9a9d5a4dd41fc9466bee705ae3cddd',\n",
       " 'timestamp': 1701114263.224768,\n",
       " 'hash': 'd594edc9c4639905d31e982eb34f697cdd46fc9d3d9fbdfa5d9c6e2ea90bca3b'}"
      ]
     },
     "execution_count": 206,
     "metadata": {},
     "output_type": "execute_result"
    }
   ],
   "source": [
    "eth_bc.chain[1].__dict__"
   ]
  },
  {
   "cell_type": "code",
   "execution_count": 202,
   "metadata": {},
   "outputs": [
    {
     "name": "stdout",
     "output_type": "stream",
     "text": [
      "{'index': 0, 'previous_hash': '0000000000000000000000000000000000000000000000000000000000000000', 'transactions': {}, 'timestamp': 1701114263.215181, 'hash': '2416362cdecf11db852e37f631cdf421d4bc079957b0181a6fd5363aaf66edf7'}\n",
      "{'index': 1, 'previous_hash': '2416362cdecf11db852e37f631cdf421d4bc079957b0181a6fd5363aaf66edf7', 'transactions': '9067ec49ed4cb73fc148c2ee03ed01eecc9a9d5a4dd41fc9466bee705ae3cddd', 'timestamp': 1701114263.224768, 'hash': 'd594edc9c4639905d31e982eb34f697cdd46fc9d3d9fbdfa5d9c6e2ea90bca3b'}\n"
     ]
    }
   ],
   "source": [
    "for block in eth_bc.chain:\n",
    "    print(block.__dict__)"
   ]
  },
  {
   "cell_type": "code",
   "execution_count": null,
   "metadata": {},
   "outputs": [],
   "source": [
    "# create a simple blockchain program that:\n",
    "# has an interface allowing you to select number of peers, number of blocks,  number of transactions \n",
    "# simlates transaction data \n",
    "# simulate manipulation of a block for personal gain, and run verification procedures\n",
    "# simulate mining in python \n",
    "# block creator, MEV in python, strategic positiong of transactions within a block to generate a profit - arbitrage or priority transactions\n",
    "# proof of stake example:"
   ]
  }
 ],
 "metadata": {
  "kernelspec": {
   "display_name": "base",
   "language": "python",
   "name": "python3"
  },
  "language_info": {
   "codemirror_mode": {
    "name": "ipython",
    "version": 3
   },
   "file_extension": ".py",
   "mimetype": "text/x-python",
   "name": "python",
   "nbconvert_exporter": "python",
   "pygments_lexer": "ipython3",
   "version": "3.11.4"
  }
 },
 "nbformat": 4,
 "nbformat_minor": 2
}
