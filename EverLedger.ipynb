{
 "cells": [
  {
   "cell_type": "code",
   "execution_count": 34,
   "metadata": {},
   "outputs": [],
   "source": [
    "import hashlib\n",
    "import json\n",
    "import datetime\n",
    "import random\n",
    "from names_generator import generate_name\n",
    "import math"
   ]
  },
  {
   "cell_type": "code",
   "execution_count": 35,
   "metadata": {},
   "outputs": [],
   "source": [
    "class Node:\n",
    "    def __init__(self, hardware, execution_client):\n",
    "        self.hardware = hardware\n",
    "        self.execution_client = execution_client\n",
    "        self.ledger = None"
   ]
  },
  {
   "cell_type": "code",
   "execution_count": 36,
   "metadata": {},
   "outputs": [],
   "source": [
    "class Block():\n",
    "    def __init__(self, number, parent_hash, transaction_object_list):\n",
    "        self.timestamp = datetime.datetime.timestamp(datetime.datetime.now())\n",
    "        self.number = number\n",
    "        self.parent_hash = parent_hash\n",
    "        self.transaction_object_list = transaction_object_list\n",
    "        self.transaction_count = len(transaction_object_list)\n",
    "        self.block_hash = hashlib.sha256(json.dumps([self.number, self.parent_hash, str(self.transaction_object_list)]).encode(\"utf-8\")).hexdigest()\n",
    "        \n",
    "        self.size = None # The size of this block in bytes\n",
    "        self.gas_limit = None # The maximum gas allowed in this block\n",
    "        self.gas_used = None # The total used gas by all transactions in this block\n",
    "        self.nonce = None # Hash of the generated proof-of-work\n",
    "        self.miner = None # The address of the beneficiary to whom the mining rewards were given\n",
    "        self.difficulty = None # Integer of the difficulty for this block\n",
    "        self.total_difficulty = None # Integer of the total difficulty of the chain until this block\n",
    "        self.sha3_uncles = None # SHA3 of the uncles data in the block\n",
    "        self.logs_bloom = None # The bloom filter for the logs of the block\n",
    "        self.transactions_root = None # The root of the transaction trie of the block\n",
    "        self.state_root = None # The root of the final state trie of the block\n",
    "        self.receipts_root = None # The root of the receipts trie of the block\t"
   ]
  },
  {
   "cell_type": "code",
   "execution_count": 37,
   "metadata": {},
   "outputs": [],
   "source": [
    "class Blockchain:\n",
    "    \"\"\"\n",
    "    A class for creating a blockchain, creating nodes and validating blocks \n",
    "    \"\"\"\n",
    "    def __init__(self, name):\n",
    "        self.creation_date = datetime.datetime.timestamp(datetime.datetime.now())\n",
    "        self.name = name\n",
    "        self.node_chain = []\n",
    "        self.block_chain = [self.create_genesis_block()]\n",
    "        self.validator_chain = []\n",
    "\n",
    "    def create_genesis_block(self):\n",
    "        return Block(0, \"0\"*64, [])\n",
    "    \n",
    "    def add_node(self, node):\n",
    "        self.node_chain.append(node)\n",
    "    \n",
    "    def add_validator(self, validator):\n",
    "        self.validator_chain.append(validator)\n",
    "\n",
    "    def create_block(self):\n",
    "        # Select a validator randomly to create the next block\n",
    "        selected_validator = random.choice(self.validators)\n",
    "\n",
    "        # Create the new block\n",
    "        new_block = Block(selected_validator.address)\n",
    "        self.chain.append(new_block)"
   ]
  },
  {
   "cell_type": "code",
   "execution_count": 38,
   "metadata": {},
   "outputs": [],
   "source": [
    "class mempool():\n",
    "    def __init__(self):\n",
    "        self.transactions = []\n",
    "\n",
    "    def add_transactions(self, transaction_batch):\n",
    "        self.transactions.extend(transaction_batch)\n",
    "\n",
    "    def block_validated(self, block_validated):\n",
    "        if block_validated == True:\n",
    "            self.transactions = []"
   ]
  },
  {
   "cell_type": "code",
   "execution_count": 39,
   "metadata": {},
   "outputs": [],
   "source": [
    "everledger = Blockchain(name='everledger')\n",
    "mempool = mempool()"
   ]
  },
  {
   "cell_type": "code",
   "execution_count": 40,
   "metadata": {},
   "outputs": [],
   "source": [
    "def create_random_nodes(number_of_nodes_to_create):\n",
    "    node_object_list = []\n",
    "    execution_client_list = ['nethermind', 'geth', 'besu', 'erigon', 'reth']\n",
    "    hardware_list = ['i764-4N', 'test_hw']\n",
    "    for count in range(number_of_nodes_to_create):\n",
    "        random_hw = hardware_list[random.randint(0, len(hardware_list) - 1)]\n",
    "        random_ec = execution_client_list[random.randint(0, len(execution_client_list) - 1)]\n",
    "\n",
    "        node_object_list.append(Node(hardware=random_hw,execution_client=random_ec))\n",
    "    return node_object_list\n",
    "\n",
    "everledger.add_node(create_random_nodes(3))"
   ]
  },
  {
   "cell_type": "code",
   "execution_count": 41,
   "metadata": {},
   "outputs": [],
   "source": [
    "def generate_transactions(transaction_count):\n",
    "    transaction_list = []\n",
    "    for i in range(transaction_count):\n",
    "        transaction = {\n",
    "            'nonce': i,\n",
    "            'date': datetime.datetime.timestamp(datetime.datetime.now()),\n",
    "            'amount':random.randint(0, 100),\n",
    "            'from': generate_name(), \n",
    "            'to': generate_name()\n",
    "        }\n",
    "        transaction_list.append(transaction)\n",
    "    return transaction_list\n",
    "\n",
    "transactions_batch = generate_transactions(transaction_count=3)"
   ]
  },
  {
   "cell_type": "code",
   "execution_count": 42,
   "metadata": {},
   "outputs": [],
   "source": [
    "mempool.add_transactions(transactions_batch)"
   ]
  },
  {
   "cell_type": "code",
   "execution_count": 44,
   "metadata": {},
   "outputs": [
    {
     "data": {
      "text/plain": [
       "[[<__main__.Node at 0x1b5c12e6d90>,\n",
       "  <__main__.Node at 0x1b5c149fa50>,\n",
       "  <__main__.Node at 0x1b5c149fb90>]]"
      ]
     },
     "execution_count": 44,
     "metadata": {},
     "output_type": "execute_result"
    }
   ],
   "source": [
    "everledger.node_chain"
   ]
  },
  {
   "cell_type": "code",
   "execution_count": null,
   "metadata": {},
   "outputs": [],
   "source": [
    "# def create_blocks(block_index_transaction_dic):\n",
    "#     hash_list = []\n",
    "#     block_list = []\n",
    "#     for block_index, value in block_index_transaction_dic.items():\n",
    "#         if block_index == 0:\n",
    "#             previous_hash = '0'*64\n",
    "#         else:\n",
    "#             previous_hash = hash_list[block_index-1]\n",
    "#         transaction_list = generate_transactions(transaction_count)\n",
    "#         block_list.append(Block(index=0, previous_hash=previous_hash, transaction_list=transaction_list))\n",
    "\n",
    "# create_blocks(block_index_transaction_dic)"
   ]
  },
  {
   "cell_type": "code",
   "execution_count": null,
   "metadata": {},
   "outputs": [],
   "source": [
    "# def generate_transactions(transaction_count):\n",
    "#     transaction_list = []\n",
    "#     for i in range(transaction_count):\n",
    "#         transaction = {\n",
    "#             'nonce': i,\n",
    "#             'date': datetime.datetime.timestamp(datetime.datetime.now()),\n",
    "#             'amount':random.randint(0, 100),\n",
    "#             'from': generate_name(), \n",
    "#             'to': generate_name()\n",
    "#         }\n",
    "#         transaction_list.append(transaction)\n",
    "#     return transaction_list"
   ]
  }
 ],
 "metadata": {
  "kernelspec": {
   "display_name": "base",
   "language": "python",
   "name": "python3"
  },
  "language_info": {
   "codemirror_mode": {
    "name": "ipython",
    "version": 3
   },
   "file_extension": ".py",
   "mimetype": "text/x-python",
   "name": "python",
   "nbconvert_exporter": "python",
   "pygments_lexer": "ipython3",
   "version": "3.11.4"
  }
 },
 "nbformat": 4,
 "nbformat_minor": 2
}
