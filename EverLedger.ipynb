{
 "cells": [
  {
   "cell_type": "code",
   "execution_count": 1,
   "metadata": {},
   "outputs": [],
   "source": [
    "import hashlib\n",
    "import json\n",
    "import datetime\n",
    "import random\n",
    "from names_generator import generate_name\n",
    "import math"
   ]
  },
  {
   "cell_type": "code",
   "execution_count": 2,
   "metadata": {},
   "outputs": [],
   "source": [
    "class Node:\n",
    "    def __init__(self, hardware, execution_client):\n",
    "        self.hardware = hardware\n",
    "        self.execution_client = execution_client\n",
    "        self.ledger = None"
   ]
  },
  {
   "cell_type": "code",
   "execution_count": 3,
   "metadata": {},
   "outputs": [],
   "source": [
    "class Block():\n",
    "    def __init__(self, number, parent_hash, transaction_object_list):\n",
    "        self.timestamp = datetime.datetime.timestamp(datetime.datetime.now())\n",
    "        self.number = number\n",
    "        self.parent_hash = parent_hash\n",
    "        self.transaction_object_list = transaction_object_list\n",
    "        self.transaction_count = len(transaction_object_list)\n",
    "        self.block_hash = hashlib.sha256(json.dumps([self.number, self.parent_hash, str(self.transaction_object_list)]).encode(\"utf-8\")).hexdigest()\n",
    "        \n",
    "        self.size = None # The size of this block in bytes\n",
    "        self.gas_limit = None # The maximum gas allowed in this block\n",
    "        self.gas_used = None # The total used gas by all transactions in this block\n",
    "        self.nonce = None # Hash of the generated proof-of-work\n",
    "        self.miner = None # The address of the beneficiary to whom the mining rewards were given\n",
    "        self.difficulty = None # Integer of the difficulty for this block\n",
    "        self.total_difficulty = None # Integer of the total difficulty of the chain until this block\n",
    "        self.sha3_uncles = None # SHA3 of the uncles data in the block\n",
    "        self.logs_bloom = None # The bloom filter for the logs of the block\n",
    "        self.transactions_root = None # The root of the transaction trie of the block\n",
    "        self.state_root = None # The root of the final state trie of the block\n",
    "        self.receipts_root = None # The root of the receipts trie of the block\t"
   ]
  },
  {
   "cell_type": "code",
   "execution_count": null,
   "metadata": {},
   "outputs": [],
   "source": [
    "class Validator():\n",
    "    def __init__(self, name):\n",
    "        self.name = name"
   ]
  },
  {
   "cell_type": "code",
   "execution_count": 4,
   "metadata": {},
   "outputs": [],
   "source": [
    "class Blockchain:\n",
    "    \"\"\"\n",
    "    A class for creating a blockchain, creating nodes and validating blocks \n",
    "    \"\"\"\n",
    "    def __init__(self, name):\n",
    "        self.creation_date = datetime.datetime.timestamp(datetime.datetime.now())\n",
    "        self.name = name\n",
    "        self.node_chain = []\n",
    "        self.block_chain = [self.create_genesis_block()]\n",
    "        self.validator_chain = None\n",
    "\n",
    "    def create_genesis_block(self):\n",
    "        return Block(0, \"0\"*64, [])\n",
    "    \n",
    "    def add_node(self, node):\n",
    "        if isinstance(node, list):\n",
    "            self.node_chain.extend(node)\n",
    "        else:\n",
    "            self.node_chain.append(node)\n",
    "    \n",
    "    def proof_of_stake(self, data, number_zeros):\n",
    "\n",
    "    # def validate_block(self):\n",
    "    #     for block in self.block_chain:\n",
    "    #         if block.parent_hash > 0:\n",
    "\n",
    "    #         # parent_hash\n",
    "    #         # block_hash\n",
    "\n",
    "    #     # 66% concensus\n",
    "\n",
    "    #     if len(self.node_chain) > 0:\n",
    "    #         for node in self.node_chain:\n",
    "    #             if node.ledger\n",
    "    #     self.node_chain = []\n",
    "\n",
    "    def number_of_nodes_for_concensus(self):\n",
    "        node_count = len(self.node_chain)\n",
    "        majority = int(math.ceil(node_count) / 2)\n",
    "        return f\"Need a minimum of {majority} nodes needed\"\n",
    "    \n",
    "    def get_most_recent_block(self):\n",
    "        if len(self.block_chain) > 0:\n",
    "            return self.block_chain[-1]\n",
    "        else:\n",
    "            print('No blocks added yet')\n",
    "\n",
    "    def proof_of_work_deprecated(self, data, number_zeros):\n",
    "        # 0x1f3206401212c828 actual example of a nonce  \n",
    "        prefix = '0'*number_zeros\n",
    "        nonce = 0\n",
    "        while True:\n",
    "            guess = f'{data}{nonce}'\n",
    "            hash = hashlib.sha256(guess.encode()).hexdigest()\n",
    "            if hash.startswith(prefix):\n",
    "                print(f'Nonce {nonce} satisfies condition')\n",
    "                return nonce\n",
    "            nonce += 1"
   ]
  },
  {
   "cell_type": "code",
   "execution_count": 5,
   "metadata": {},
   "outputs": [],
   "source": [
    "everledger = Blockchain(name='everledger')"
   ]
  },
  {
   "cell_type": "code",
   "execution_count": 6,
   "metadata": {},
   "outputs": [],
   "source": [
    "def create_random_nodes(number_of_nodes_to_create):\n",
    "    node_object_list = []\n",
    "    execution_client_list = ['nethermind', 'geth', 'besu', 'erigon', 'reth']\n",
    "    hardware_list = ['i764-4N', 'test_hw']\n",
    "    for count in range(number_of_nodes_to_create):\n",
    "        random_hw = hardware_list[random.randint(0, len(hardware_list) - 1)]\n",
    "        random_ec = execution_client_list[random.randint(0, len(execution_client_list) - 1)]\n",
    "\n",
    "        node_object_list.append(Node(hardware=random_hw,execution_client=random_ec))\n",
    "    return node_object_list\n",
    "\n",
    "everledger.add_node(create_random_nodes(3))"
   ]
  },
  {
   "cell_type": "code",
   "execution_count": 9,
   "metadata": {},
   "outputs": [
    {
     "data": {
      "text/plain": [
       "[{'nonce': 0,\n",
       "  'date': 1701277131.549478,\n",
       "  'amount': 88,\n",
       "  'from': 'awesome_boyd',\n",
       "  'to': 'priceless_murdock'},\n",
       " {'nonce': 1,\n",
       "  'date': 1701277131.549478,\n",
       "  'amount': 74,\n",
       "  'from': 'vigilant_bell',\n",
       "  'to': 'laughing_northcutt'},\n",
       " {'nonce': 2,\n",
       "  'date': 1701277131.549478,\n",
       "  'amount': 35,\n",
       "  'from': 'optimistic_thompson',\n",
       "  'to': 'objective_ellis'}]"
      ]
     },
     "execution_count": 9,
     "metadata": {},
     "output_type": "execute_result"
    }
   ],
   "source": [
    "def generate_transactions(transaction_count):\n",
    "    transaction_list = []\n",
    "    for i in range(transaction_count):\n",
    "        transaction = {\n",
    "            'nonce': i,\n",
    "            'date': datetime.datetime.timestamp(datetime.datetime.now()),\n",
    "            'amount':random.randint(0, 100),\n",
    "            'from': generate_name(), \n",
    "            'to': generate_name()\n",
    "        }\n",
    "        transaction_list.append(transaction)\n",
    "    return transaction_list\n",
    "\n",
    "transactions_batch = generate_transactions(transaction_count=3)\n",
    "transactions_batch"
   ]
  },
  {
   "cell_type": "code",
   "execution_count": 7,
   "metadata": {},
   "outputs": [],
   "source": [
    "# def create_blocks(block_index_transaction_dic):\n",
    "#     hash_list = []\n",
    "#     block_list = []\n",
    "#     for block_index, value in block_index_transaction_dic.items():\n",
    "#         if block_index == 0:\n",
    "#             previous_hash = '0'*64\n",
    "#         else:\n",
    "#             previous_hash = hash_list[block_index-1]\n",
    "#         transaction_list = generate_transactions(transaction_count)\n",
    "#         block_list.append(Block(index=0, previous_hash=previous_hash, transaction_list=transaction_list))\n",
    "\n",
    "# create_blocks(block_index_transaction_dic)"
   ]
  },
  {
   "cell_type": "code",
   "execution_count": 8,
   "metadata": {},
   "outputs": [],
   "source": [
    "# def generate_transactions(transaction_count):\n",
    "#     transaction_list = []\n",
    "#     for i in range(transaction_count):\n",
    "#         transaction = {\n",
    "#             'nonce': i,\n",
    "#             'date': datetime.datetime.timestamp(datetime.datetime.now()),\n",
    "#             'amount':random.randint(0, 100),\n",
    "#             'from': generate_name(), \n",
    "#             'to': generate_name()\n",
    "#         }\n",
    "#         transaction_list.append(transaction)\n",
    "#     return transaction_list"
   ]
  }
 ],
 "metadata": {
  "kernelspec": {
   "display_name": "base",
   "language": "python",
   "name": "python3"
  },
  "language_info": {
   "codemirror_mode": {
    "name": "ipython",
    "version": 3
   },
   "file_extension": ".py",
   "mimetype": "text/x-python",
   "name": "python",
   "nbconvert_exporter": "python",
   "pygments_lexer": "ipython3",
   "version": "3.11.4"
  }
 },
 "nbformat": 4,
 "nbformat_minor": 2
}
